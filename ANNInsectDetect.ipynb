{
  "nbformat": 4,
  "nbformat_minor": 0,
  "metadata": {
    "colab": {
      "name": "ANNInsectDetect.ipynb",
      "provenance": []
    },
    "kernelspec": {
      "name": "python3",
      "display_name": "Python 3"
    },
    "language_info": {
      "name": "python"
    }
  },
  "cells": [
    {
      "cell_type": "code",
      "execution_count": null,
      "metadata": {
        "colab": {
          "base_uri": "https://localhost:8080/"
        },
        "id": "BEaa0yGMVXys",
        "outputId": "3215d642-c14d-4051-c39f-efba4ee824e9"
      },
      "outputs": [
        {
          "output_type": "stream",
          "name": "stdout",
          "text": [
            "Tensorflow version: 2.8.0\n"
          ]
        }
      ],
      "source": [
        "import numpy as np\n",
        "import seaborn as sns\n",
        "import matplotlib.pyplot as plt\n",
        "#import utils\n",
        "import os\n",
        "%matplotlib inline\n",
        "\n",
        "\n",
        "from tensorflow.keras.preprocessing.image import ImageDataGenerator\n",
        "from tensorflow.keras.layers import Dense, Input, Dropout,Flatten, Conv2D\n",
        "from tensorflow.keras.layers import BatchNormalization, Activation, MaxPooling2D\n",
        "from tensorflow.keras.models import Model, Sequential\n",
        "from tensorflow.keras.optimizers import Adam\n",
        "from tensorflow.keras.callbacks import ModelCheckpoint, ReduceLROnPlateau\n",
        "#from tensorflow.keras.utils import plot_model\n",
        "\n",
        "from IPython.display import SVG, Image\n",
        "#from livelossplot import PlotLossesTensorFlowKeras()\n",
        "import tensorflow as tf\n",
        "print(\"Tensorflow version:\", tf.__version__)"
      ]
    },
    {
      "cell_type": "code",
      "source": [
        "base_dir = '/tmp'\n",
        "train_dir = os.path.join(base_dir,'train')\n",
        "test_dir = os.path.join(base_dir,'test')"
      ],
      "metadata": {
        "id": "TuFa51zjWq7a"
      },
      "execution_count": null,
      "outputs": []
    },
    {
      "cell_type": "code",
      "source": [
        "img_size = 64\n",
        "batch_size = 64\n",
        "train_datagen = ImageDataGenerator(rescale=1/255,\n",
        "                                  rotation_range=40,\n",
        "                                  width_shift_range=0.2,\n",
        "                                  height_shift_range=0.2,\n",
        "                                  shear_range=0.2,\n",
        "                                  zoom_range=0.2,\n",
        "                                  horizontal_flip=True,\n",
        "                                  fill_mode='nearest')\n",
        "\n",
        "valid_datagen = ImageDataGenerator(rescale = 1/255)\n",
        "\n",
        "train_generator = train_datagen.flow_from_directory(train_dir,\n",
        "                                                    target_size = (img_size, img_size),\n",
        "                                                    color_mode='grayscale',\n",
        "                                                    batch_size=batch_size,\n",
        "                                                    class_mode='categorical',\n",
        "                                                    shuffle=True)\n",
        "\n",
        "validation_generator = valid_datagen.flow_from_directory(test_dir,\n",
        "                                                    target_size = (img_size, img_size),\n",
        "                                                    color_mode='grayscale',\n",
        "                                                    batch_size=batch_size,\n",
        "                                                    class_mode='categorical',\n",
        "                                                    shuffle=False)"
      ],
      "metadata": {
        "colab": {
          "base_uri": "https://localhost:8080/"
        },
        "id": "OxgodL7NWvlH",
        "outputId": "38c8186b-77ab-4383-b4cd-d8e5e5f94a5f"
      },
      "execution_count": null,
      "outputs": [
        {
          "output_type": "stream",
          "name": "stdout",
          "text": [
            "Found 1343 images belonging to 4 classes.\n",
            "Found 150 images belonging to 4 classes.\n"
          ]
        }
      ]
    },
    {
      "cell_type": "code",
      "source": [
        "model = Sequential()\n",
        "model.add(Conv2D(64,(3,3),padding='same',input_shape=(64,64,1)))\n",
        "model.add(Flatten())\n",
        "model.add(Dense(2048, input_dim=8, activation='relu'))\n",
        "model.add(Dense(1024, input_dim=8, activation='relu'))\n",
        "model.add(Dense(1024, input_dim=8, activation='relu'))\n",
        "model.add(Dense(128, activation='relu'))\n",
        "model.add(Dense(4, activation='softmax'))"
      ],
      "metadata": {
        "id": "71xORtFbX5BB"
      },
      "execution_count": null,
      "outputs": []
    },
    {
      "cell_type": "code",
      "source": [
        "opt = Adam(lr=0.0005)\n",
        "\n",
        "model.compile(optimizer=opt,loss='categorical_crossentropy', metrics=['accuracy'])\n",
        "model.summary()"
      ],
      "metadata": {
        "colab": {
          "base_uri": "https://localhost:8080/"
        },
        "id": "_GycDRmAYBIC",
        "outputId": "96e66682-f37d-41cb-d654-dcd5146ae825"
      },
      "execution_count": null,
      "outputs": [
        {
          "output_type": "stream",
          "name": "stdout",
          "text": [
            "Model: \"sequential_3\"\n",
            "_________________________________________________________________\n",
            " Layer (type)                Output Shape              Param #   \n",
            "=================================================================\n",
            " conv2d_1 (Conv2D)           (None, 64, 64, 64)        640       \n",
            "                                                                 \n",
            " flatten_2 (Flatten)         (None, 262144)            0         \n",
            "                                                                 \n",
            " dense_9 (Dense)             (None, 2048)              536872960 \n",
            "                                                                 \n",
            " dense_10 (Dense)            (None, 1024)              2098176   \n",
            "                                                                 \n",
            " dense_11 (Dense)            (None, 1024)              1049600   \n",
            "                                                                 \n",
            " dense_12 (Dense)            (None, 128)               131200    \n",
            "                                                                 \n",
            " dense_13 (Dense)            (None, 4)                 516       \n",
            "                                                                 \n",
            "=================================================================\n",
            "Total params: 540,153,092\n",
            "Trainable params: 540,153,092\n",
            "Non-trainable params: 0\n",
            "_________________________________________________________________\n"
          ]
        },
        {
          "output_type": "stream",
          "name": "stderr",
          "text": [
            "/usr/local/lib/python3.7/dist-packages/keras/optimizer_v2/adam.py:105: UserWarning: The `lr` argument is deprecated, use `learning_rate` instead.\n",
            "  super(Adam, self).__init__(name, **kwargs)\n"
          ]
        }
      ]
    },
    {
      "cell_type": "code",
      "source": [
        "epochs = 15\n",
        "steps_per_epoch = train_generator.n//train_generator.batch_size\n",
        "validation_steps = validation_generator.n//validation_generator.batch_size\n",
        "\n",
        "checkpoint = ModelCheckpoint('model_weights.h5',monitor='val_accuracy',\n",
        "                            save_weights_only=True,mode='max',verbose=1)\n",
        "\n",
        "reduce_lr = ReduceLROnPlateau(monitor='val_loss',factor=0.1,patience=2,min_lr=0.00001,mode='auto')\n",
        "callbacks = [checkpoint, reduce_lr]\n",
        "\n",
        "history = model.fit(x=train_generator,\n",
        "                   steps_per_epoch=steps_per_epoch,\n",
        "                   epochs=epochs,\n",
        "                   validation_data=validation_generator,\n",
        "                   validation_steps=validation_steps,\n",
        "                   callbacks = callbacks )"
      ],
      "metadata": {
        "colab": {
          "base_uri": "https://localhost:8080/"
        },
        "id": "aBcehShpYKva",
        "outputId": "d585b547-89e8-4dc8-ed60-f155da678d95"
      },
      "execution_count": null,
      "outputs": [
        {
          "output_type": "stream",
          "name": "stdout",
          "text": [
            "Epoch 1/15\n",
            "20/20 [==============================] - ETA: 0s - loss: 7.1101 - accuracy: 0.4109\n",
            "Epoch 1: saving model to model_weights.h5\n",
            "20/20 [==============================] - 147s 7s/step - loss: 7.1101 - accuracy: 0.4109 - val_loss: 2.2769 - val_accuracy: 0.3906 - lr: 5.0000e-04\n",
            "Epoch 2/15\n",
            "20/20 [==============================] - ETA: 0s - loss: 1.2544 - accuracy: 0.4683\n",
            "Epoch 2: saving model to model_weights.h5\n",
            "20/20 [==============================] - 149s 7s/step - loss: 1.2544 - accuracy: 0.4683 - val_loss: 1.3257 - val_accuracy: 0.3906 - lr: 5.0000e-04\n",
            "Epoch 3/15\n",
            "20/20 [==============================] - ETA: 0s - loss: 1.0027 - accuracy: 0.4683\n",
            "Epoch 3: saving model to model_weights.h5\n",
            "20/20 [==============================] - 143s 7s/step - loss: 1.0027 - accuracy: 0.4683 - val_loss: 1.2200 - val_accuracy: 0.3906 - lr: 5.0000e-04\n",
            "Epoch 4/15\n",
            "20/20 [==============================] - ETA: 0s - loss: 0.9900 - accuracy: 0.5035\n",
            "Epoch 4: saving model to model_weights.h5\n",
            "20/20 [==============================] - 150s 7s/step - loss: 0.9900 - accuracy: 0.5035 - val_loss: 1.1859 - val_accuracy: 0.3906 - lr: 5.0000e-04\n",
            "Epoch 5/15\n",
            "20/20 [==============================] - ETA: 0s - loss: 1.0049 - accuracy: 0.4746\n",
            "Epoch 5: saving model to model_weights.h5\n",
            "20/20 [==============================] - 149s 7s/step - loss: 1.0049 - accuracy: 0.4746 - val_loss: 1.3327 - val_accuracy: 0.3906 - lr: 5.0000e-04\n",
            "Epoch 6/15\n",
            "20/20 [==============================] - ETA: 0s - loss: 0.9781 - accuracy: 0.5113\n",
            "Epoch 6: saving model to model_weights.h5\n",
            "20/20 [==============================] - 145s 7s/step - loss: 0.9781 - accuracy: 0.5113 - val_loss: 1.1132 - val_accuracy: 0.3594 - lr: 5.0000e-04\n",
            "Epoch 7/15\n",
            "20/20 [==============================] - ETA: 0s - loss: 0.9629 - accuracy: 0.5496\n",
            "Epoch 7: saving model to model_weights.h5\n",
            "20/20 [==============================] - 145s 7s/step - loss: 0.9629 - accuracy: 0.5496 - val_loss: 1.0250 - val_accuracy: 0.3906 - lr: 5.0000e-04\n",
            "Epoch 8/15\n",
            "20/20 [==============================] - ETA: 0s - loss: 0.9717 - accuracy: 0.5293\n",
            "Epoch 8: saving model to model_weights.h5\n",
            "20/20 [==============================] - 156s 8s/step - loss: 0.9717 - accuracy: 0.5293 - val_loss: 1.0586 - val_accuracy: 0.3750 - lr: 5.0000e-04\n",
            "Epoch 9/15\n",
            "20/20 [==============================] - ETA: 0s - loss: 0.9557 - accuracy: 0.5504\n",
            "Epoch 9: saving model to model_weights.h5\n",
            "20/20 [==============================] - 147s 7s/step - loss: 0.9557 - accuracy: 0.5504 - val_loss: 1.3406 - val_accuracy: 0.3984 - lr: 5.0000e-04\n",
            "Epoch 10/15\n",
            "20/20 [==============================] - ETA: 0s - loss: 0.9511 - accuracy: 0.5653\n",
            "Epoch 10: saving model to model_weights.h5\n",
            "20/20 [==============================] - 153s 8s/step - loss: 0.9511 - accuracy: 0.5653 - val_loss: 1.0832 - val_accuracy: 0.4219 - lr: 5.0000e-05\n",
            "Epoch 11/15\n",
            "20/20 [==============================] - ETA: 0s - loss: 0.9322 - accuracy: 0.5668\n",
            "Epoch 11: saving model to model_weights.h5\n",
            "20/20 [==============================] - 146s 7s/step - loss: 0.9322 - accuracy: 0.5668 - val_loss: 1.0886 - val_accuracy: 0.4141 - lr: 5.0000e-05\n",
            "Epoch 12/15\n",
            "20/20 [==============================] - ETA: 0s - loss: 0.9186 - accuracy: 0.5809\n",
            "Epoch 12: saving model to model_weights.h5\n",
            "20/20 [==============================] - 158s 8s/step - loss: 0.9186 - accuracy: 0.5809 - val_loss: 1.0874 - val_accuracy: 0.4141 - lr: 1.0000e-05\n",
            "Epoch 13/15\n",
            "20/20 [==============================] - ETA: 0s - loss: 0.9206 - accuracy: 0.5731\n",
            "Epoch 13: saving model to model_weights.h5\n",
            "20/20 [==============================] - 146s 7s/step - loss: 0.9206 - accuracy: 0.5731 - val_loss: 1.0846 - val_accuracy: 0.4141 - lr: 1.0000e-05\n",
            "Epoch 14/15\n",
            "20/20 [==============================] - ETA: 0s - loss: 0.9208 - accuracy: 0.5754\n",
            "Epoch 14: saving model to model_weights.h5\n",
            "20/20 [==============================] - 149s 7s/step - loss: 0.9208 - accuracy: 0.5754 - val_loss: 1.0865 - val_accuracy: 0.4141 - lr: 1.0000e-05\n",
            "Epoch 15/15\n",
            "20/20 [==============================] - ETA: 0s - loss: 0.9175 - accuracy: 0.5801\n",
            "Epoch 15: saving model to model_weights.h5\n",
            "20/20 [==============================] - 155s 8s/step - loss: 0.9175 - accuracy: 0.5801 - val_loss: 1.0817 - val_accuracy: 0.4141 - lr: 1.0000e-05\n"
          ]
        }
      ]
    },
    {
      "cell_type": "code",
      "source": [
        "import matplotlib.pyplot as plt\n",
        "acc = history.history['accuracy']\n",
        "val_acc = history.history['val_accuracy']\n",
        "loss = history.history['loss']\n",
        "val_loss = history.history['val_loss']\n",
        "\n",
        "epochs = range(len(acc))\n",
        "\n",
        "plt.plot(epochs, acc, 'r', label='Training accuracy')\n",
        "plt.plot(epochs, val_acc, 'b', label='Validation accuracy')\n",
        "plt.title('Training and validation accuracy')\n",
        "plt.legend(loc=0)\n",
        "plt.figure()\n",
        "\n",
        "\n",
        "plt.show()"
      ],
      "metadata": {
        "colab": {
          "base_uri": "https://localhost:8080/",
          "height": 298
        },
        "id": "ZiqW-H7QZ20G",
        "outputId": "2af817eb-d462-49a5-cade-b34749ce0cfb"
      },
      "execution_count": null,
      "outputs": [
        {
          "output_type": "display_data",
          "data": {
            "text/plain": [
              "<Figure size 432x288 with 1 Axes>"
            ],
            "image/png": "[encoded data removed]"
          },
          "metadata": {
            "needs_background": "light"
          }
        },
        {
          "output_type": "display_data",
          "data": {
            "text/plain": [
              "<Figure size 432x288 with 0 Axes>"
            ]
          },
          "metadata": {}
        }
      ]
    },
    {
      "cell_type": "code",
      "source": [
        "import numpy as np\n",
        "import os\n",
        "import matplotlib.pyplot as plt\n",
        "import seaborn as sns\n",
        "from sklearn.metrics import classification_report, confusion_matrix, accuracy_score, ConfusionMatrixDisplay\n",
        "from sklearn.metrics import confusion_matrix, plot_confusion_matrix\n",
        "\n",
        "Y_pred = model.predict_generator(validation_generator)\n",
        "y_pred = np.argmax(Y_pred, axis=1)\n",
        "labels = [\"Leafs\", \"blackpest\", \"ladha\"]\n",
        "\n",
        "cm = confusion_matrix(validation_generator.classes, y_pred, normalize='pred')\n",
        "disp = ConfusionMatrixDisplay(confusion_matrix=cm, display_labels=labels)\n",
        "\n",
        "disp.plot(cmap=plt.cm.Blues)\n",
        "plt.show()"
      ],
      "metadata": {
        "colab": {
          "base_uri": "https://localhost:8080/",
          "height": 334
        },
        "id": "PaPS0EJCki2Z",
        "outputId": "546bb981-d873-4640-89e1-b5080e3f7589"
      },
      "execution_count": null,
      "outputs": [
        {
          "output_type": "stream",
          "name": "stderr",
          "text": [
            "/usr/local/lib/python3.7/dist-packages/ipykernel_launcher.py:8: UserWarning: `Model.predict_generator` is deprecated and will be removed in a future version. Please use `Model.predict`, which supports generators.\n",
            "  \n"
          ]
        },
        {
          "output_type": "display_data",
          "data": {
            "text/plain": [
              "<Figure size 432x288 with 2 Axes>"
            ],
            "image/png": "[encoded data removed]"
          },
          "metadata": {
            "needs_background": "light"
          }
        }
      ]
    },
    {
      "cell_type": "code",
      "source": [
        "print(\"Training set accuracy :\", end = \" \")\n",
        "\n",
        "print(history.history['accuracy'][-1])\n",
        "\n",
        "print(\"Test data  accuracy:\", end = \" \")\n",
        "\n",
        "print(history.history['val_accuracy'][-1])"
      ],
      "metadata": {
        "colab": {
          "base_uri": "https://localhost:8080/"
        },
        "id": "PQQmZHXOlkD_",
        "outputId": "bccd7268-532a-4a12-cd1a-8f928a2ef97a"
      },
      "execution_count": null,
      "outputs": [
        {
          "output_type": "stream",
          "name": "stdout",
          "text": [
            "Training set accuracy : 0.5801407098770142\n",
            "Test data  accuracy: 0.4140625\n"
          ]
        }
      ]
    },
    {
      "cell_type": "code",
      "source": [
        "import pandas as pd\n",
        "groups = [[58, 41], [98,92]]\n",
        "group_labels = ['ANN', 'CNN']\n",
        "\n",
        "# Convert data to pandas DataFrame.\n",
        "df = pd.DataFrame(groups, index=group_labels).T\n",
        "\n",
        "# Plot.\n",
        "pd.concat(\n",
        "    [df.mean().rename('Train'), df.min().rename('Test')],\n",
        "    axis=1).plot.bar()"
      ],
      "metadata": {
        "colab": {
          "base_uri": "https://localhost:8080/",
          "height": 294
        },
        "id": "t8EWKMPbwjWV",
        "outputId": "cbaa9bd9-2179-43a8-b7ed-9c91670ab8a6"
      },
      "execution_count": null,
      "outputs": [
        {
          "output_type": "execute_result",
          "data": {
            "text/plain": [
              "<matplotlib.axes._subplots.AxesSubplot at 0x7f1a292c5e50>"
            ]
          },
          "metadata": {},
          "execution_count": 2
        },
        {
          "output_type": "display_data",
          "data": {
            "text/plain": [
              "<Figure size 432x288 with 1 Axes>"
            ],
            "image/png": "[encoded data removed]"
          },
          "metadata": {
            "needs_background": "light"
          }
        }
      ]
    },
    {
      "cell_type": "code",
      "source": [
        "leaf = [46,78]\n",
        "bp = [0,98]\n",
        "ladha = [28,100]\n",
        "index = ['ANN','CNN']\n",
        "df = pd.DataFrame({'Leaf': leaf,'Black Pest':bp,\n",
        "                   'ladha': ladha}, index=index)\n",
        "ax = df.plot.bar(rot=0)"
      ],
      "metadata": {
        "colab": {
          "base_uri": "https://localhost:8080/",
          "height": 265
        },
        "id": "JNrxAwHNxk_l",
        "outputId": "ca787a96-3b3b-4196-d815-ba62d66f0fae"
      },
      "execution_count": null,
      "outputs": [
        {
          "output_type": "display_data",
          "data": {
            "text/plain": [
              "<Figure size 432x288 with 1 Axes>"
            ],
            "image/png": "[encoded data removed]"
          },
          "metadata": {
            "needs_background": "light"
          }
        }
      ]
    }
  ]
}